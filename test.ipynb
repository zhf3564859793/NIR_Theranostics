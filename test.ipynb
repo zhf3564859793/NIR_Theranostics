{
 "cells": [
  {
   "cell_type": "code",
   "execution_count": 1,
   "metadata": {},
   "outputs": [],
   "source": [
    "from ase.build import molecule"
   ]
  },
  {
   "cell_type": "code",
   "execution_count": 2,
   "metadata": {},
   "outputs": [],
   "source": [
    "from xtb.ase.calculator import XTB"
   ]
  },
  {
   "cell_type": "code",
   "execution_count": 3,
   "metadata": {},
   "outputs": [],
   "source": [
    "atoms = molecule('H2O')\n",
    "atoms.calc = XTB(method=\"GFN2-xTB\")"
   ]
  },
  {
   "cell_type": "code",
   "execution_count": 4,
   "metadata": {},
   "outputs": [
    {
     "data": {
      "text/plain": [
       "-137.96777587302992"
      ]
     },
     "execution_count": 4,
     "metadata": {},
     "output_type": "execute_result"
    }
   ],
   "source": [
    "atoms.get_potential_energy()"
   ]
  },
  {
   "cell_type": "code",
   "execution_count": 5,
   "metadata": {},
   "outputs": [
    {
     "data": {
      "text/plain": [
       "array([[ 4.69173929e-15, -1.91104123e-15, -7.49514699e-01],\n",
       "       [-4.32646055e-15, -1.53501989e-01,  3.74757349e-01],\n",
       "       [-3.65278739e-16,  1.53501989e-01,  3.74757349e-01]])"
      ]
     },
     "execution_count": 5,
     "metadata": {},
     "output_type": "execute_result"
    }
   ],
   "source": [
    "atoms.get_forces()"
   ]
  },
  {
   "cell_type": "code",
   "execution_count": 7,
   "metadata": {},
   "outputs": [],
   "source": [
    "from ase import Atoms"
   ]
  },
  {
   "cell_type": "code",
   "execution_count": 8,
   "metadata": {},
   "outputs": [],
   "source": [
    "from xtb.ase.calculator import XTB"
   ]
  },
  {
   "cell_type": "code",
   "execution_count": 9,
   "metadata": {},
   "outputs": [
    {
     "name": "stdout",
     "output_type": "stream",
     "text": [
      "      Step     Time          Energy          fmax\n",
      "BFGS:    0 18:43:27     -134.169582        7.762957\n",
      "BFGS:    1 18:43:27     -135.791628        6.919752\n",
      "BFGS:    2 18:43:27     -137.876804        1.705096\n",
      "BFGS:    3 18:43:27     -137.853712        2.854017\n",
      "BFGS:    4 18:43:27     -137.941753        0.658287\n",
      "BFGS:    5 18:43:27     -137.955264        0.522643\n",
      "BFGS:    6 18:43:27     -137.976499        0.056601\n",
      "BFGS:    7 18:43:27     -137.976542        0.000731\n",
      "[[ 0.  0. -1.]\n",
      " [ 0.  1.  0.]\n",
      " [ 0.  0.  1.]] -134.16958213999632\n",
      "[[ 4.38413257e-18  5.54496911e-02 -9.48703487e-01]\n",
      " [-3.51806993e-18  8.89100618e-01  9.87913389e-17]\n",
      " [-8.66062640e-19  5.54496911e-02  9.48703487e-01]] -135.7916277544899\n",
      "[[ 1.51929344e-16  1.55449691e-01 -8.39242853e-01]\n",
      " [-1.85777850e-16  6.89100618e-01 -8.40708162e-17]\n",
      " [ 3.32302980e-17  1.55449691e-01  8.39242853e-01]] -137.87680359095484\n",
      "[[ 5.39162459e-17  1.77025147e-01 -7.95166284e-01]\n",
      " [-5.90282623e-17  6.45949706e-01  3.45787670e-16]\n",
      " [ 4.02335888e-18  1.77025147e-01  7.95166284e-01]] -137.85371154320728\n",
      "[[ 9.22909449e-17  1.59866969e-01 -8.12604206e-01]\n",
      " [-9.08203623e-17  6.80266062e-01  4.91555306e-17]\n",
      " [-6.70085845e-19  1.59866969e-01  8.12604206e-01]] -137.94175256013642\n",
      "[[ 1.15809858e-16  1.56128949e-01 -8.03964795e-01]\n",
      " [-1.14412952e-16  6.87742102e-01  9.90829514e-17]\n",
      " [-8.07149092e-19  1.56128949e-01  8.03964795e-01]] -137.95526411489135\n",
      "[[-2.43416705e-16  1.43243972e-01 -7.72452722e-01]\n",
      " [ 3.03248958e-16  7.13512056e-01  3.69067944e-17]\n",
      " [-5.99289164e-17  1.43243972e-01  7.72452722e-01]] -137.97649944825903\n",
      "[[-1.92781872e-16  1.43670850e-01 -7.72230878e-01]\n",
      " [ 2.29918670e-16  7.12658300e-01  2.86159842e-16]\n",
      " [-3.73640510e-17  1.43670850e-01  7.72230878e-01]] -137.97654228167016\n"
     ]
    }
   ],
   "source": [
    "from ase import Atoms\n",
    "from ase.optimize import BFGS\n",
    "from ase.io.trajectory import Trajectory\n",
    "water = Atoms('HOH', positions = [[0, 0, -1], [0, 1, 0], [0, 0, 1]])\n",
    "from xtb.ase.calculator import XTB\n",
    "water.calc = XTB(method = \"GFN2-xTB\")\n",
    "opt = BFGS(water, trajectory = 'opt.traj')\n",
    "opt.run(fmax = 0.05)\n",
    "traj = Trajectory('opt.traj')\n",
    "for atoms in traj:\n",
    "    print(atoms.positions, atoms.get_potential_energy())\n"
   ]
  },
  {
   "cell_type": "code",
   "execution_count": 19,
   "metadata": {},
   "outputs": [],
   "source": [
    "atoms = molecule('CH3OH')"
   ]
  },
  {
   "cell_type": "code",
   "execution_count": 20,
   "metadata": {},
   "outputs": [
    {
     "data": {
      "text/plain": [
       "Atoms(symbols='COH4', pbc=False)"
      ]
     },
     "execution_count": 20,
     "metadata": {},
     "output_type": "execute_result"
    }
   ],
   "source": [
    "atoms"
   ]
  },
  {
   "cell_type": "code",
   "execution_count": 21,
   "metadata": {},
   "outputs": [],
   "source": [
    "atoms.calc = XTB(method=\"GFN2-xTB\")"
   ]
  },
  {
   "cell_type": "code",
   "execution_count": 22,
   "metadata": {},
   "outputs": [
    {
     "data": {
      "text/plain": [
       "-223.83546559906637"
      ]
     },
     "execution_count": 22,
     "metadata": {},
     "output_type": "execute_result"
    }
   ],
   "source": [
    "atoms.get_potential_energy()"
   ]
  },
  {
   "cell_type": "code",
   "execution_count": 23,
   "metadata": {},
   "outputs": [
    {
     "data": {
      "text/plain": [
       "array([[-0.047131,  0.664389,  0.      ],\n",
       "       [-0.047131, -0.758551,  0.      ],\n",
       "       [-1.092995,  0.969785,  0.      ],\n",
       "       [ 0.878534, -1.048458,  0.      ],\n",
       "       [ 0.437145,  1.080376,  0.891772],\n",
       "       [ 0.437145,  1.080376, -0.891772]])"
      ]
     },
     "execution_count": 23,
     "metadata": {},
     "output_type": "execute_result"
    }
   ],
   "source": [
    "atoms.positions"
   ]
  },
  {
   "cell_type": "code",
   "execution_count": 24,
   "metadata": {},
   "outputs": [
    {
     "data": {
      "text/plain": [
       "<Popen: returncode: None args: ['/home/cbe/anaconda3/envs/xtb/bin/python', '...>"
      ]
     },
     "execution_count": 24,
     "metadata": {},
     "output_type": "execute_result"
    }
   ],
   "source": [
    "from ase import Atoms\n",
    "from ase.calculators.emt import EMT\n",
    "from ase.optimize import BFGS\n",
    "from ase.visualize import view\n",
    " \n",
    "h2o = Atoms('HOH', positions = [[0, 0, -1], [0, 1, 0], [0, 0, 1]])\n",
    "h2o.center(vacuum = 3.0)\n",
    " \n",
    "calc = EMT()\n",
    "h2o.calc = calc\n",
    " \n",
    "opt = BFGS(h2o, trajectory = 'H2O.traj', logfile='opt.log')\n",
    "opt.run(fmax = 0.02)\n",
    " \n",
    "view(h2o)"
   ]
  }
 ],
 "metadata": {
  "kernelspec": {
   "display_name": "xtb",
   "language": "python",
   "name": "python3"
  },
  "language_info": {
   "codemirror_mode": {
    "name": "ipython",
    "version": 3
   },
   "file_extension": ".py",
   "mimetype": "text/x-python",
   "name": "python",
   "nbconvert_exporter": "python",
   "pygments_lexer": "ipython3",
   "version": "3.9.21"
  }
 },
 "nbformat": 4,
 "nbformat_minor": 2
}
